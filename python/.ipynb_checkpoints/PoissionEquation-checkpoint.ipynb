{
 "cells": [
  {
   "cell_type": "markdown",
   "id": "5ba4e45f-2bcf-4580-8598-04cddcae5c4f",
   "metadata": {},
   "source": [
    "---\n",
    "#### Poisson's differential equation\n",
    "$$\n",
    "    \\nabla^2 f(x,y) = g(x,y) \\\\ \\; \\\\\n",
    "    \\implies \\nabla \\cdot \\nabla f = g \\\\ \\; \\\\\n",
    "    \\implies \\langle \\frac{\\partial}{\\partial x}, \\frac{\\partial}{\\partial y}\\rangle \\cdot \\langle \\frac{\\partial f}{\\partial x}, \\frac{\\partial f}{\\partial y}\\rangle = g \\\\ \\; \\\\\n",
    "    \\implies f_{xx} + f_{yy} = g\n",
    "$$\n",
    "\n",
    "---\n",
    "\n",
    "##### Discrete approximation\n",
    "\n",
    "$$\n",
    "    f_x = \\lim_{h \\rightarrow 0} \\frac{f(x+h,y) - f(x-h,y)}{2h} \\\\ \\; \\\\\n",
    "    f_{xx} = \\lim_{h \\rightarrow 0} \\frac{f_x(x+h,y) - f_x(x-h,y)}{2h} \\\\ \\; \\\\\n",
    "    f_{xx} = \\lim_{h \\rightarrow 0} \\frac{1}{2h} \\times \\bigg\\{ \\frac{f(x+h+h,y) - f(x+h - h,y)}{2h} - \\frac{f(x-h+h,y)-f(x-h-h,y)}{2h} \\bigg\\} \\\\ \\; \\\\\n",
    "    f_{xx} = \\lim_{h \\rightarrow 0} \\frac{1}{4h^2} \\times \\bigg\\{ f(x+2h,y) - f(x,y) - f(x,y) + f(x-2h,y) \\bigg\\} \\\\ \\; \\\\\n",
    "    f_{xx} = \\lim_{h \\rightarrow 0} \\frac{1}{4h^2} \\times \\bigg\\{ f(x+2h,y) + f(x-2h,y) - 2f(x,y) \\bigg\\} \\\\ \\; \\\\\n",
    "$$\n",
    "\n",
    "\n",
    "Similarly, \n",
    "$$\n",
    "    f_{yy} = \\lim_{h \\rightarrow 0} \\frac{1}{4h^2} \\times \\bigg\\{ f(x,y+2h) + f(x,y-2h) - 2f(x,y) \\bigg\\} \\\\ \\; \\\\\n",
    "$$\n",
    "\n",
    "---\n",
    "\n",
    "Hence, for sufficiently small $h$, the discrete/difference Poission equation is given by,\n",
    "\n",
    "$$\n",
    "    f_{xx} + f_{yy} = g \\\\ \\; \\\\ \n",
    "    \\implies f(x+2h,y) + f(x-2h,y) + f(x,y+2h) + f(x,y-2h) - 4f(x,y) = 4h^2 g(x,y)\n",
    "$$\n",
    "\n",
    "---\n",
    "Setting $h$ to $\\frac{h}{2}$, we get,\n",
    "\n",
    "$$\n",
    "    \\implies f(x+h,y) + f(x-h,y) + f(x,y+h) + f(x,y-h) - 4f(x,y) = h^2 g(x,y) \\\\ \\; \\\\\n",
    "      or \\; f(x,y) = h^2 g(x,y) - (f_{top} + f_{bottom} + f_{right} + f_{left})   \n",
    "$$\n",
    "\n"
   ]
  },
  {
   "cell_type": "markdown",
   "id": "f0250734-d143-4f7f-a4d5-0de2fe6e1df3",
   "metadata": {},
   "source": [
    "---\n",
    "---\n",
    "In addition to tne Poission equation, we are also given the boundary values on a rectangle with $p \\leq x \\leq q$ and $r \\leq y \\leq s$.\n",
    "\n",
    "On the boundary of the rectangular region, we have the values given by $b(x,y)$.\n",
    "\n",
    "Since the matrix representing the above difference equation is \n",
    "\n",
    "Since solving the equation on a fine grid is computationally heavy, we will first start with a coarse grid and an initial solution estimate set to b(x,y) over the grid and try to solve the difference equation above. Then we will refine our grid and intrapolate the solution from the previous step that was obtained with low computational complexity as our initial estimate and then resolve on the finer grid and hopefully we will get faster convergence since we started with a good estimate.\n",
    "\n",
    "---\n",
    "---"
   ]
  },
  {
   "cell_type": "code",
   "execution_count": 5,
   "id": "5181ebb8-83a6-46d8-8629-009cc371efbb",
   "metadata": {},
   "outputs": [],
   "source": [
    "import numpy as np\n",
    "import pandas as pd"
   ]
  },
  {
   "cell_type": "code",
   "execution_count": 43,
   "id": "dd957be7-60a3-4456-b55a-5e78d9c8e5f7",
   "metadata": {},
   "outputs": [],
   "source": [
    "def getGrid(domain, parts):\n",
    "    \"\"\"\n",
    "        domain = ( xstart, xend, ystart, yend )\n",
    "        parts  = ( xparts, yparts )\n",
    "    \"\"\"\n",
    "    xstart, xend, ystart, yend = domain\n",
    "    xparts, yparts = parts\n",
    "    \n",
    "    x = np.linspace(xstart, xend, xparts+1)\n",
    "    y = np.linspace(ystart, yend, yparts+1)\n",
    "    \n",
    "    mesh = np.meshgrid(x,y)\n",
    "    \n",
    "    return mesh[0],mesh[1]\n",
    "\n",
    "def f(x,y):\n",
    "    return x**2 + y**2\n",
    "\n",
    "def g(x,y):\n",
    "        return 0 * x\n",
    "    \n",
    "def b(x,y):\n",
    "    return np.e**x + np.e**y \n",
    "\n",
    "\n",
    "def interpolate(prev_grid, new_grid, interpolate_on_values):\n",
    "    pass"
   ]
  },
  {
   "cell_type": "code",
   "execution_count": 42,
   "id": "edc4761e-fe6a-4f4e-8487-99e730f51123",
   "metadata": {},
   "outputs": [],
   "source": [
    "domain = (0,1, 0, 1)\n",
    "parts = (100,100)\n",
    "\n",
    "xs,ys = getGrid(domain, parts)\n",
    "\n",
    "fs = f(xs,ys)\n",
    "gs = g(xs,ys)\n",
    "bs = b(xs,ys)"
   ]
  },
  {
   "cell_type": "code",
   "execution_count": null,
   "id": "3362d116-1ebb-4ae5-a2c7-6e7a1f3ab5a0",
   "metadata": {},
   "outputs": [],
   "source": []
  }
 ],
 "metadata": {
  "kernelspec": {
   "display_name": "PYV",
   "language": "python",
   "name": "pyv"
  },
  "language_info": {
   "codemirror_mode": {
    "name": "ipython",
    "version": 3
   },
   "file_extension": ".py",
   "mimetype": "text/x-python",
   "name": "python",
   "nbconvert_exporter": "python",
   "pygments_lexer": "ipython3",
   "version": "3.10.4"
  }
 },
 "nbformat": 4,
 "nbformat_minor": 5
}
